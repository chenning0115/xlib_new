{
 "cells": [
  {
   "cell_type": "code",
   "execution_count": 3,
   "metadata": {
    "collapsed": true
   },
   "outputs": [],
   "source": [
    "import time\n",
    "import datetime\n",
    "import numpy as np\n",
    "from datetime import datetime as dt\n",
    "from tqdm import *\n",
    "from datetime import datetime as dt\n",
    "from tqdm import *\n",
    "import pandas as pd\n",
    "import matplotlib.pyplot as plt\n",
    "%matplotlib inline"
   ]
  },
  {
   "cell_type": "code",
   "execution_count": 4,
   "metadata": {
    "collapsed": true
   },
   "outputs": [],
   "source": [
    "import statsmodels.api as sm\n",
    "from statsmodels.graphics.api import qqplot\n",
    "import os,sys\n",
    "sys.path.append('../xlib/src/')"
   ]
  },
  {
   "cell_type": "code",
   "execution_count": 5,
   "metadata": {},
   "outputs": [
    {
     "name": "stdout",
     "output_type": "stream",
     "text": [
      "Load rawdata from disk done. path=../xlib/src/xdata/../../data/044A02上隅角_2min.mean.pkl\n",
      "eval feature done. start to transform to dataframe..\n",
      "raw_value StaticFeature(MonitorValue) ['SensorID', 'Time']\n",
      "RMean_5 RMean(StaticFeature(MonitorValue),5,args:) ['SensorID', 'Time']\n",
      "RMean_15 RMean(StaticFeature(MonitorValue),15,args:) ['SensorID', 'Time']\n",
      "RMean_30 RMean(StaticFeature(MonitorValue),30,args:) ['SensorID', 'Time']\n",
      "RMean_60 RMean(StaticFeature(MonitorValue),60,args:) ['SensorID', 'Time']\n",
      "RMax_5 RMax(StaticFeature(MonitorValue),5,args:) ['SensorID', 'Time']\n",
      "RMax_15 RMax(StaticFeature(MonitorValue),15,args:) ['SensorID', 'Time']\n",
      "RMax_30 RMax(StaticFeature(MonitorValue),30,args:) ['SensorID', 'Time']\n",
      "RMax_60 RMax(StaticFeature(MonitorValue),60,args:) ['SensorID', 'Time']\n",
      "RMin_5 RMin(StaticFeature(MonitorValue),5,args:) ['SensorID', 'Time']\n",
      "RMin_15 RMin(StaticFeature(MonitorValue),15,args:) ['SensorID', 'Time']\n",
      "RMin_30 RMin(StaticFeature(MonitorValue),30,args:) ['SensorID', 'Time']\n",
      "RMin_60 RMin(StaticFeature(MonitorValue),60,args:) ['SensorID', 'Time']\n",
      "RStd_5 RStd(StaticFeature(MonitorValue),5,args:) ['SensorID', 'Time']\n",
      "RStd_15 RStd(StaticFeature(MonitorValue),15,args:) ['SensorID', 'Time']\n",
      "RStd_30 RStd(StaticFeature(MonitorValue),30,args:) ['SensorID', 'Time']\n",
      "RStd_60 RStd(StaticFeature(MonitorValue),60,args:) ['SensorID', 'Time']\n",
      "RKurt_5 RKurt(StaticFeature(MonitorValue),5,args:) ['SensorID', 'Time']\n",
      "RKurt_15 RKurt(StaticFeature(MonitorValue),15,args:) ['SensorID', 'Time']\n",
      "RKurt_30 RKurt(StaticFeature(MonitorValue),30,args:) ['SensorID', 'Time']\n",
      "RKurt_60 RKurt(StaticFeature(MonitorValue),60,args:) ['SensorID', 'Time']\n",
      "RSkew_5 RSkew(StaticFeature(MonitorValue),5,args:) ['SensorID', 'Time']\n",
      "RSkew_15 RSkew(StaticFeature(MonitorValue),15,args:) ['SensorID', 'Time']\n",
      "RSkew_30 RSkew(StaticFeature(MonitorValue),30,args:) ['SensorID', 'Time']\n",
      "RSkew_60 RSkew(StaticFeature(MonitorValue),60,args:) ['SensorID', 'Time']\n",
      "LABEL0 Ref(StaticFeature(MonitorValue),-1) ['SensorID', 'Time']\n"
     ]
    }
   ],
   "source": [
    "from expriment.dataset_monitor import gen_monitor_dp\n",
    "dp =  gen_monitor_dp()"
   ]
  },
  {
   "cell_type": "code",
   "execution_count": 21,
   "metadata": {
    "collapsed": true
   },
   "outputs": [],
   "source": [
    "train, valid, test = next(dp.next())\n",
    "ytrain = train[dp.final_label]\n",
    "yvalid = valid[dp.final_label]\n",
    "ytest = test[dp.final_label]"
   ]
  },
  {
   "cell_type": "code",
   "execution_count": 22,
   "metadata": {
    "collapsed": true
   },
   "outputs": [],
   "source": [
    "all_y = pd.concat([ytrain,yvalid,ytest]).sort_index().reset_index(level=0,drop=True)"
   ]
  },
  {
   "cell_type": "code",
   "execution_count": 23,
   "metadata": {},
   "outputs": [],
   "source": [
    "train_y = all_y[pd.Timestamp('2017-11-01 00:00:00'):pd.Timestamp('2017-11-29 12:30:00')]\n",
    "test_y = all_y[pd.Timestamp('2017-11-29 12:30:00'):pd.Timestamp('2017-11-29 13:00:00')]"
   ]
  },
  {
   "cell_type": "code",
   "execution_count": 38,
   "metadata": {
    "scrolled": false
   },
   "outputs": [
    {
     "data": {
      "image/png": "[encoded data removed]",
      "text/plain": [
       "<matplotlib.figure.Figure at 0x118cc7da0>"
      ]
     },
     "metadata": {},
     "output_type": "display_data"
    }
   ],
   "source": [
    "for i in range(1):\n",
    "    i += 1\n",
    "#     dta = train_y.diff(i).iloc[i:]\n",
    "    dta = ytrain\n",
    "    fig = plt.figure(figsize=(12,8))\n",
    "    ax1=fig.add_subplot(211)\n",
    "    fig = sm.graphics.tsa.plot_acf(dta,lags=300,ax=ax1)\n",
    "    ax2 = fig.add_subplot(212)\n",
    "    fig = sm.graphics.tsa.plot_pacf(dta,lags=300,ax=ax2)\n",
    "#     break"
   ]
  },
  {
   "cell_type": "code",
   "execution_count": null,
   "metadata": {},
   "outputs": [
    {
     "name": "stderr",
     "output_type": "stream",
     "text": [
      "/usr/local/Cellar/python3/3.6.0_1/Frameworks/Python.framework/Versions/3.6/lib/python3.6/site-packages/statsmodels/tsa/base/tsa_model.py:221: ValueWarning: An unsupported index was provided and will be ignored when e.g. forecasting.\n",
      "  ' ignored when e.g. forecasting.', ValueWarning)\n"
     ]
    }
   ],
   "source": [
    "arma_mod20 = sm.tsa.ARMA(dta,(150,4)).fit()"
   ]
  },
  {
   "cell_type": "code",
   "execution_count": 27,
   "metadata": {},
   "outputs": [],
   "source": [
    "period = 10\n",
    "res = arma_mod20.forecast(period)\n",
    "inter = pd.Timedelta(minutes=2)\n",
    "start = train_y.index.get_level_values(level=0).max() + inter\n",
    "end = start + (period-1) *inter\n",
    "freq = '2min'\n",
    "tr = pd.date_range(start=start, end=end, freq=freq)\n",
    "pred = pd.DataFrame({'temp_pred':res[0],\n",
    "                     'temp_pred_min':res[2][:,0],\n",
    "                     'temp_pred_max':res[2][:,1],\n",
    "                     'confi':res[1]},index=tr)\n",
    "pred['ori'] = test_y\n",
    "def recover(pre,ori_val):\n",
    "    return pre.cumsum() + ori_val\n",
    "for t in ['pred','pred_max','pred_min']:\n",
    "    pred[t] = recover(pred['temp_%s' % t], train_y.iloc[-1])"
   ]
  },
  {
   "cell_type": "code",
   "execution_count": 30,
   "metadata": {},
   "outputs": [
    {
     "data": {
      "image/png": "[encoded data removed]",
      "text/plain": [
       "<matplotlib.figure.Figure at 0x1153e26d8>"
      ]
     },
     "metadata": {},
     "output_type": "display_data"
    }
   ],
   "source": [
    "def plot(pred):\n",
    "    plt.figure(figsize=(20, 5))\n",
    "#     pred = pred.reset_index()\n",
    "    plt.plot( pred['ori'], label='ori')\n",
    "    plt.plot(pred['pred'],label='pred')\n",
    "#     plt.plot(pred['pred_max'],label='pred_max')\n",
    "#     plt.plot(pred['pred_min'],label='pred_min')\n",
    "    plt.legend()\n",
    "plot(pred)\n",
    "# pred"
   ]
  },
  {
   "cell_type": "code",
   "execution_count": 29,
   "metadata": {},
   "outputs": [
    {
     "data": {
      "text/plain": [
       "(19927,)"
      ]
     },
     "execution_count": 29,
     "metadata": {},
     "output_type": "execute_result"
    }
   ],
   "source": [
    "dta.shape"
   ]
  },
  {
   "cell_type": "code",
   "execution_count": 34,
   "metadata": {},
   "outputs": [],
   "source": [
    "pred['diff'] = pred['ori'].diff()\n",
    "pred['cu'] = pred['temp_pred']"
   ]
  },
  {
   "cell_type": "code",
   "execution_count": 35,
   "metadata": {},
   "outputs": [
    {
     "data": {
      "text/html": [
       "<div>\n",
       "<table border=\"1\" class=\"dataframe\">\n",
       "  <thead>\n",
       "    <tr style=\"text-align: right;\">\n",
       "      <th></th>\n",
       "      <th>confi</th>\n",
       "      <th>temp_pred</th>\n",
       "      <th>temp_pred_max</th>\n",
       "      <th>temp_pred_min</th>\n",
       "      <th>ori</th>\n",
       "      <th>pred</th>\n",
       "      <th>pred_max</th>\n",
       "      <th>pred_min</th>\n",
       "      <th>diff</th>\n",
       "      <th>cu</th>\n",
       "    </tr>\n",
       "  </thead>\n",
       "  <tbody>\n",
       "    <tr>\n",
       "      <th>2017-11-29 12:32:00</th>\n",
       "      <td>0.016767</td>\n",
       "      <td>-0.000797</td>\n",
       "      <td>0.032066</td>\n",
       "      <td>-0.033660</td>\n",
       "      <td>0.301818</td>\n",
       "      <td>0.301021</td>\n",
       "      <td>0.333884</td>\n",
       "      <td>0.268159</td>\n",
       "      <td>NaN</td>\n",
       "      <td>-0.000797</td>\n",
       "    </tr>\n",
       "    <tr>\n",
       "      <th>2017-11-29 12:34:00</th>\n",
       "      <td>0.017945</td>\n",
       "      <td>0.003678</td>\n",
       "      <td>0.038851</td>\n",
       "      <td>-0.031494</td>\n",
       "      <td>0.301818</td>\n",
       "      <td>0.304700</td>\n",
       "      <td>0.372735</td>\n",
       "      <td>0.236665</td>\n",
       "      <td>0.000000</td>\n",
       "      <td>0.003678</td>\n",
       "    </tr>\n",
       "    <tr>\n",
       "      <th>2017-11-29 12:36:00</th>\n",
       "      <td>0.017955</td>\n",
       "      <td>0.003527</td>\n",
       "      <td>0.038718</td>\n",
       "      <td>-0.031665</td>\n",
       "      <td>0.320000</td>\n",
       "      <td>0.308226</td>\n",
       "      <td>0.411453</td>\n",
       "      <td>0.205000</td>\n",
       "      <td>0.018182</td>\n",
       "      <td>0.003527</td>\n",
       "    </tr>\n",
       "    <tr>\n",
       "      <th>2017-11-29 12:38:00</th>\n",
       "      <td>0.017985</td>\n",
       "      <td>0.003273</td>\n",
       "      <td>0.038522</td>\n",
       "      <td>-0.031977</td>\n",
       "      <td>0.359000</td>\n",
       "      <td>0.311499</td>\n",
       "      <td>0.449975</td>\n",
       "      <td>0.173022</td>\n",
       "      <td>0.039000</td>\n",
       "      <td>0.003273</td>\n",
       "    </tr>\n",
       "    <tr>\n",
       "      <th>2017-11-29 12:40:00</th>\n",
       "      <td>0.018000</td>\n",
       "      <td>0.003089</td>\n",
       "      <td>0.038368</td>\n",
       "      <td>-0.032191</td>\n",
       "      <td>0.372727</td>\n",
       "      <td>0.314587</td>\n",
       "      <td>0.488344</td>\n",
       "      <td>0.140831</td>\n",
       "      <td>0.013727</td>\n",
       "      <td>0.003089</td>\n",
       "    </tr>\n",
       "    <tr>\n",
       "      <th>2017-11-29 12:42:00</th>\n",
       "      <td>0.018018</td>\n",
       "      <td>0.002890</td>\n",
       "      <td>0.038205</td>\n",
       "      <td>-0.032425</td>\n",
       "      <td>0.403636</td>\n",
       "      <td>0.317477</td>\n",
       "      <td>0.526548</td>\n",
       "      <td>0.108406</td>\n",
       "      <td>0.030909</td>\n",
       "      <td>0.002890</td>\n",
       "    </tr>\n",
       "    <tr>\n",
       "      <th>2017-11-29 12:44:00</th>\n",
       "      <td>0.018032</td>\n",
       "      <td>0.002716</td>\n",
       "      <td>0.038057</td>\n",
       "      <td>-0.032626</td>\n",
       "      <td>0.471818</td>\n",
       "      <td>0.320193</td>\n",
       "      <td>0.564605</td>\n",
       "      <td>0.075780</td>\n",
       "      <td>0.068182</td>\n",
       "      <td>0.002716</td>\n",
       "    </tr>\n",
       "    <tr>\n",
       "      <th>2017-11-29 12:46:00</th>\n",
       "      <td>0.018045</td>\n",
       "      <td>0.002546</td>\n",
       "      <td>0.037913</td>\n",
       "      <td>-0.032821</td>\n",
       "      <td>0.542500</td>\n",
       "      <td>0.322739</td>\n",
       "      <td>0.602519</td>\n",
       "      <td>0.042959</td>\n",
       "      <td>0.070682</td>\n",
       "      <td>0.002546</td>\n",
       "    </tr>\n",
       "    <tr>\n",
       "      <th>2017-11-29 12:48:00</th>\n",
       "      <td>0.018056</td>\n",
       "      <td>0.002391</td>\n",
       "      <td>0.037779</td>\n",
       "      <td>-0.032998</td>\n",
       "      <td>0.577273</td>\n",
       "      <td>0.325130</td>\n",
       "      <td>0.640298</td>\n",
       "      <td>0.009961</td>\n",
       "      <td>0.034773</td>\n",
       "      <td>0.002391</td>\n",
       "    </tr>\n",
       "    <tr>\n",
       "      <th>2017-11-29 12:50:00</th>\n",
       "      <td>0.018066</td>\n",
       "      <td>0.002243</td>\n",
       "      <td>0.037651</td>\n",
       "      <td>-0.033165</td>\n",
       "      <td>0.549091</td>\n",
       "      <td>0.327373</td>\n",
       "      <td>0.677949</td>\n",
       "      <td>-0.023204</td>\n",
       "      <td>-0.028182</td>\n",
       "      <td>0.002243</td>\n",
       "    </tr>\n",
       "  </tbody>\n",
       "</table>\n",
       "</div>"
      ],
      "text/plain": [
       "                        confi  temp_pred  temp_pred_max  temp_pred_min  \\\n",
       "2017-11-29 12:32:00  0.016767  -0.000797       0.032066      -0.033660   \n",
       "2017-11-29 12:34:00  0.017945   0.003678       0.038851      -0.031494   \n",
       "2017-11-29 12:36:00  0.017955   0.003527       0.038718      -0.031665   \n",
       "2017-11-29 12:38:00  0.017985   0.003273       0.038522      -0.031977   \n",
       "2017-11-29 12:40:00  0.018000   0.003089       0.038368      -0.032191   \n",
       "2017-11-29 12:42:00  0.018018   0.002890       0.038205      -0.032425   \n",
       "2017-11-29 12:44:00  0.018032   0.002716       0.038057      -0.032626   \n",
       "2017-11-29 12:46:00  0.018045   0.002546       0.037913      -0.032821   \n",
       "2017-11-29 12:48:00  0.018056   0.002391       0.037779      -0.032998   \n",
       "2017-11-29 12:50:00  0.018066   0.002243       0.037651      -0.033165   \n",
       "\n",
       "                          ori      pred  pred_max  pred_min      diff  \\\n",
       "2017-11-29 12:32:00  0.301818  0.301021  0.333884  0.268159       NaN   \n",
       "2017-11-29 12:34:00  0.301818  0.304700  0.372735  0.236665  0.000000   \n",
       "2017-11-29 12:36:00  0.320000  0.308226  0.411453  0.205000  0.018182   \n",
       "2017-11-29 12:38:00  0.359000  0.311499  0.449975  0.173022  0.039000   \n",
       "2017-11-29 12:40:00  0.372727  0.314587  0.488344  0.140831  0.013727   \n",
       "2017-11-29 12:42:00  0.403636  0.317477  0.526548  0.108406  0.030909   \n",
       "2017-11-29 12:44:00  0.471818  0.320193  0.564605  0.075780  0.068182   \n",
       "2017-11-29 12:46:00  0.542500  0.322739  0.602519  0.042959  0.070682   \n",
       "2017-11-29 12:48:00  0.577273  0.325130  0.640298  0.009961  0.034773   \n",
       "2017-11-29 12:50:00  0.549091  0.327373  0.677949 -0.023204 -0.028182   \n",
       "\n",
       "                           cu  \n",
       "2017-11-29 12:32:00 -0.000797  \n",
       "2017-11-29 12:34:00  0.003678  \n",
       "2017-11-29 12:36:00  0.003527  \n",
       "2017-11-29 12:38:00  0.003273  \n",
       "2017-11-29 12:40:00  0.003089  \n",
       "2017-11-29 12:42:00  0.002890  \n",
       "2017-11-29 12:44:00  0.002716  \n",
       "2017-11-29 12:46:00  0.002546  \n",
       "2017-11-29 12:48:00  0.002391  \n",
       "2017-11-29 12:50:00  0.002243  "
      ]
     },
     "execution_count": 35,
     "metadata": {},
     "output_type": "execute_result"
    }
   ],
   "source": [
    "pred"
   ]
  },
  {
   "cell_type": "code",
   "execution_count": null,
   "metadata": {
    "collapsed": true
   },
   "outputs": [],
   "source": []
  },
  {
   "cell_type": "code",
   "execution_count": null,
   "metadata": {
    "scrolled": false
   },
   "outputs": [],
   "source": []
  }
 ],
 "metadata": {
  "kernelspec": {
   "display_name": "Python 3",
   "language": "python",
   "name": "python3"
  },
  "language_info": {
   "codemirror_mode": {
    "name": "ipython",
    "version": 3
   },
   "file_extension": ".py",
   "mimetype": "text/x-python",
   "name": "python",
   "nbconvert_exporter": "python",
   "pygments_lexer": "ipython3",
   "version": "3.6.6"
  }
 },
 "nbformat": 4,
 "nbformat_minor": 2
}
