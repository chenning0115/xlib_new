{
 "cells": [
  {
   "cell_type": "code",
   "execution_count": 2,
   "metadata": {
    "collapsed": true
   },
   "outputs": [],
   "source": [
    "import pymssql\n",
    "import pymysql\n",
    "import time\n",
    "import datetime\n",
    "from datetime import datetime as dt\n",
    "import numpy as np\n",
    "from tqdm import *\n",
    "import pandas as pd\n",
    "import matplotlib.pyplot as plt\n",
    "% matplotlib inline"
   ]
  },
  {
   "cell_type": "code",
   "execution_count": 3,
   "metadata": {
    "collapsed": true
   },
   "outputs": [],
   "source": [
    "def get_conn_mysql():\n",
    "    conn = pymysql.connect(host='localhost', port=3306, user='root', passwd='admin', db='coalmine', charset='utf8')\n",
    "    return conn"
   ]
  },
  {
   "cell_type": "code",
   "execution_count": 10,
   "metadata": {},
   "outputs": [
    {
     "data": {
      "text/plain": [
       "\" select SensorID,Time, MonitorValue from monitor_gas_data_049d08 where SensorID in ('049D08')  and  Time between '2017-04-01' and '2018-05-01' order by Time\""
      ]
     },
     "execution_count": 10,
     "metadata": {},
     "output_type": "execute_result"
    }
   ],
   "source": [
    "conn = get_conn_mysql()\n",
    "sids = ['049D08']\n",
    "sids = \"('\" + \"','\".join(sids)+ \"')\"\n",
    "sql = \" select SensorID,Time, MonitorValue from monitor_gas_data_049d08 where SensorID in %s  and  Time between '2017-04-01' and '2018-05-01' order by Time\" % sids\n",
    "sql"
   ]
  },
  {
   "cell_type": "code",
   "execution_count": 11,
   "metadata": {
    "collapsed": true
   },
   "outputs": [],
   "source": [
    "cursor = conn.cursor()\n",
    "res = cursor.execute(sql)"
   ]
  },
  {
   "cell_type": "code",
   "execution_count": 12,
   "metadata": {
    "collapsed": true
   },
   "outputs": [],
   "source": [
    "rows = cursor.fetchall()"
   ]
  },
  {
   "cell_type": "code",
   "execution_count": 13,
   "metadata": {
    "collapsed": true
   },
   "outputs": [],
   "source": [
    "senids = []\n",
    "dates = []\n",
    "values = []\n",
    "for item in rows:\n",
    "    senids.append(item[0])\n",
    "    dates.append(item[1])\n",
    "    values.append(item[2])\n",
    "df = pd.DataFrame({'SensorID':senids, 'Time':dates, 'MonitorValue':values})"
   ]
  },
  {
   "cell_type": "code",
   "execution_count": 19,
   "metadata": {
    "collapsed": true
   },
   "outputs": [],
   "source": [
    "df.to_pickle('./data/044A02.pickle')"
   ]
  },
  {
   "cell_type": "code",
   "execution_count": 3,
   "metadata": {
    "collapsed": true
   },
   "outputs": [],
   "source": [
    "df = pd.read_pickle('./data/044A02.pickle')"
   ]
  },
  {
   "cell_type": "code",
   "execution_count": 14,
   "metadata": {},
   "outputs": [
    {
     "data": {
      "text/plain": [
       "1332468"
      ]
     },
     "execution_count": 14,
     "metadata": {},
     "output_type": "execute_result"
    }
   ],
   "source": [
    "df.index.size"
   ]
  },
  {
   "cell_type": "code",
   "execution_count": 13,
   "metadata": {
    "collapsed": true
   },
   "outputs": [],
   "source": []
  },
  {
   "cell_type": "code",
   "execution_count": 14,
   "metadata": {
    "collapsed": true
   },
   "outputs": [],
   "source": []
  },
  {
   "cell_type": "code",
   "execution_count": 18,
   "metadata": {},
   "outputs": [
    {
     "data": {
      "text/plain": [
       "3.001948264423611e-06"
      ]
     },
     "execution_count": 18,
     "metadata": {},
     "output_type": "execute_result"
    }
   ],
   "source": [
    "df1 = df.shift(1)\n",
    "df1['raw'] = df['MonitorValue']\n",
    "df1['diff'] = df1['raw'] - df1['MonitorValue']\n",
    "df1[df1['diff']> 0 ].index.size\n",
    "df1[df1['diff']> 0 ].index.size / df1.index.size"
   ]
  },
  {
   "cell_type": "code",
   "execution_count": 93,
   "metadata": {},
   "outputs": [
    {
     "data": {
      "text/plain": [
       "37251"
      ]
     },
     "execution_count": 93,
     "metadata": {},
     "output_type": "execute_result"
    }
   ],
   "source": []
  },
  {
   "cell_type": "code",
   "execution_count": 94,
   "metadata": {},
   "outputs": [
    {
     "data": {
      "text/plain": [
       "0.0810341639565364"
      ]
     },
     "execution_count": 94,
     "metadata": {},
     "output_type": "execute_result"
    }
   ],
   "source": []
  },
  {
   "cell_type": "code",
   "execution_count": 23,
   "metadata": {},
   "outputs": [
    {
     "data": {
      "text/plain": [
       "(array([  2.06419000e+06,   0.00000000e+00,   0.00000000e+00,\n",
       "          2.00000000e+00,   0.00000000e+00,   0.00000000e+00,\n",
       "          0.00000000e+00,   0.00000000e+00,   8.12700000e+03,\n",
       "          5.89000000e+02]),\n",
       " array([   0.   ,   62.875,  125.75 ,  188.625,  251.5  ,  314.375,\n",
       "         377.25 ,  440.125,  503.   ,  565.875,  628.75 ]),\n",
       " <a list of 10 Patch objects>)"
      ]
     },
     "execution_count": 23,
     "metadata": {},
     "output_type": "execute_result"
    },
    {
     "data": {
      "image/png": "[encoded data removed]",
      "text/plain": [
       "<matplotlib.figure.Figure at 0x195fac88a58>"
      ]
     },
     "metadata": {},
     "output_type": "display_data"
    }
   ],
   "source": [
    "raw = df1['raw']\n",
    "plt.hist(raw,bins=10)"
   ]
  },
  {
   "cell_type": "code",
   "execution_count": null,
   "metadata": {
    "collapsed": true
   },
   "outputs": [],
   "source": []
  },
  {
   "cell_type": "code",
   "execution_count": 19,
   "metadata": {},
   "outputs": [
    {
     "data": {
      "image/png": "[encoded data removed]",
      "text/plain": [
       "<matplotlib.figure.Figure at 0x212cfc0add8>"
      ]
     },
     "metadata": {},
     "output_type": "display_data"
    }
   ],
   "source": [
    "# df1[df1['Time']<'2017-12-01 01:00:00'].index.size\n",
    "def plot_one(df, sid, path=None):\n",
    "    temp = df[df['SensorID']== sid]\n",
    "    time = temp['Time']\n",
    "    val = temp['raw']\n",
    "    val = val.rolling(6).max()\n",
    "    plt.figure(figsize=(20, 5))\n",
    "    plt.plot(time, np.asarray([1]*len(time)))\n",
    "    plt.plot(time, val, label=sid)\n",
    "    plt.legend()\n",
    "    if path is None:\n",
    "        plt.show()\n",
    "    else:\n",
    "        plt.savefig(path)\n",
    "# \n",
    "sids = ['049D08']\n",
    "\n",
    "temp = df1[(df1['Time']>'2017-07-01 00:00:00') & (df1['Time']<'2018-05-01 00:00:00')]\n",
    "# temp = df1[(df1['Time']>'2017-09-17 12:00:00') & (df1['Time']<'2017-09-17 13:00:00')]\n",
    "# temp = df1[(df1['Time']>'2017-12-01 10:00:00')]\n",
    "# temp = temp[temp['raw']<0.1]\n",
    "# temp = df1\n",
    "for sid in sids:\n",
    "    plot_one(temp, sid)\n"
   ]
  },
  {
   "cell_type": "markdown",
   "metadata": {},
   "source": []
  },
  {
   "cell_type": "code",
   "execution_count": null,
   "metadata": {
    "collapsed": true
   },
   "outputs": [],
   "source": []
  },
  {
   "cell_type": "code",
   "execution_count": 1,
   "metadata": {
    "scrolled": false
   },
   "outputs": [
    {
     "ename": "NameError",
     "evalue": "name 'df1' is not defined",
     "output_type": "error",
     "traceback": [
      "\u001b[1;31m---------------------------------------------------------------------------\u001b[0m",
      "\u001b[1;31mNameError\u001b[0m                                 Traceback (most recent call last)",
      "\u001b[1;32m<ipython-input-1-7988412bd776>\u001b[0m in \u001b[0;36m<module>\u001b[1;34m()\u001b[0m\n\u001b[0;32m     14\u001b[0m \u001b[1;31m#         break\u001b[0m\u001b[1;33m\u001b[0m\u001b[1;33m\u001b[0m\u001b[0m\n\u001b[0;32m     15\u001b[0m \u001b[1;31m# plot_one(temp, sid)\u001b[0m\u001b[1;33m\u001b[0m\u001b[1;33m\u001b[0m\u001b[0m\n\u001b[1;32m---> 16\u001b[1;33m \u001b[0mplot_month\u001b[0m\u001b[1;33m(\u001b[0m\u001b[0mdf1\u001b[0m\u001b[1;33m)\u001b[0m\u001b[1;33m\u001b[0m\u001b[0m\n\u001b[0m",
      "\u001b[1;31mNameError\u001b[0m: name 'df1' is not defined"
     ]
    }
   ],
   "source": [
    "def plot_month(df):\n",
    "    start_date = pd.Timestamp('2017-04-01 00:00:00')\n",
    "    end_date = pd.Timestamp('2018-05-01 00:00:00')\n",
    "    cur_start = start_date\n",
    "    while cur_start < end_date:\n",
    "        cur_end = cur_start + pd.Timedelta(days=1)\n",
    "        print(cur_start, cur_end)\n",
    "        temp = df[(df['Time']>cur_start) & (df['Time']<=cur_end)]\n",
    "        print(temp.index.size)\n",
    "        sid = '044A02'\n",
    "        path = './temp_file/%s_%s.png' % (sid, pd.to_datetime(cur_start).strftime(\"%Y-%m-%d-%H_%M_%S\"))\n",
    "        plot_one(temp, sid, None)\n",
    "        cur_start = cur_end\n",
    "#         break\n",
    "# plot_one(temp, sid)\n",
    "plot_month(df1)\n"
   ]
  }
 ],
 "metadata": {
  "kernelspec": {
   "display_name": "Python 3",
   "language": "python",
   "name": "python3"
  },
  "language_info": {
   "codemirror_mode": {
    "name": "ipython",
    "version": 3
   },
   "file_extension": ".py",
   "mimetype": "text/x-python",
   "name": "python",
   "nbconvert_exporter": "python",
   "pygments_lexer": "ipython3",
   "version": "3.5.3"
  }
 },
 "nbformat": 4,
 "nbformat_minor": 2
}
